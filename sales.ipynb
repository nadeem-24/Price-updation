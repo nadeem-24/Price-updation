{
 "cells": [
  {
   "cell_type": "code",
   "execution_count": null,
   "metadata": {},
   "outputs": [],
   "source": [
    "import pyxl\n",
    "from openpyxl.styles import Font"
   ]
  },
  {
   "cell_type": "code",
   "execution_count": null,
   "metadata": {},
   "outputs": [],
   "source": [
    "wb = openpyxl.load_workbook('C:\\\\Users\\\\Neorix\\\\Desktop\\\\git\\\\Price-updation\\\\produceSales.xlsx')\n",
    "sheet = wb.active\n",
    "sheet.max_row, sheet.max_column"
   ]
  },
  {
   "cell_type": "code",
   "execution_count": null,
   "metadata": {},
   "outputs": [],
   "source": [
    "sheet['A1'].value,sheet['B1'].value,sheet['C1'].value,sheet['D1'].value"
   ]
  },
  {
   "cell_type": "code",
   "execution_count": null,
   "metadata": {},
   "outputs": [],
   "source": [
    "for i in range(2, sheet.max_row + 1):\n",
    "    produce_name = sheet.cell(row = i, column = 1).value\n",
    "    \n",
    "    if produce_name == 'Celery':\n",
    "        \n",
    "        #Assignment of Correct Cost Per Pound for 'Celery'\n",
    "        updated_price = sheet.cell(row = i, column = 2).coordinate\n",
    "        sheet[updated_price].value = 1.19\n",
    "        \n",
    "        # Grabbing Pounds Sold for 'Celery' and grabbing Total cell\n",
    "        pounds_sold = sheet.cell(row = i, column = 3).value\n",
    "        total = sheet.cell(row = i, column = 4).coordinate \n",
    "        \n",
    "        # Updation of Correct Total with the correct cost per pound\n",
    "        sheet[total] = sheet[updated_price].value * pounds_sold\n",
    "        \n",
    "    if produce_name == 'Garlic':\n",
    "        \n",
    "        #Assignment of Correct Cost Per Pound for 'Garlic'\n",
    "        updated_price = sheet.cell(row = i, column = 2).coordinate\n",
    "        sheet[updated_price] = 3.07\n",
    "        \n",
    "        # Grabbing Pounds Sold for 'Garlic' and grabbing Total cell\n",
    "        pounds_sold = sheet.cell(row = i, column = 3).value\n",
    "        total = sheet.cell(row = i, column = 4).value\n",
    "        \n",
    "        # Updation of Correct Total with the correct cost per pound\n",
    "        updated_total = sheet[updated_price].value * pounds_sold\n",
    "        \n",
    "    if produce_name == 'Lemon':\n",
    "        \n",
    "        #Assignment of Correct Cost Per Pound for 'Lemon'\n",
    "        updated_price = sheet.cell(row = i, column = 2).coordinate\n",
    "        sheet[updated_price] = 1.27\n",
    "        \n",
    "        # Grabbing Pounds Sold for 'Lemon' and grabbing Total cell\n",
    "        pounds_sold = sheet.cell(row = i, column = 3).value\n",
    "        total = sheet.cell(row = i, column = 4).value \n",
    "        \n",
    "        # Updation of Correct Total with the correct cost per pound\n",
    "        updated_total = sheet[updated_price].value * pounds_sold"
   ]
  },
  {
   "cell_type": "code",
   "execution_count": null,
   "metadata": {},
   "outputs": [],
   "source": [
    "for i in range(2, sheet.max_row + 1):\n",
    "    cost = sheet.cell(row = i, column = 2).value\n",
    "    produce = sheet.cell(row = i, column = 3).value\n",
    "    if cost * produce > 100:\n",
    "        font_style = Font(size=14, bold=True)\n",
    "        sheet[sheet.cell(row = i, column = 4).coordinate].font = font_style\n",
    "        \n",
    "wb.save('C:\\\\Users\\\\Neorix\\\\Desktop\\\\git\\\\Price-updation\\\\Update Produce Sales.xlsx') # save the updated workbook"
   ]
  },
  {
   "cell_type": "code",
   "execution_count": null,
   "metadata": {},
   "outputs": [],
   "source": []
  }
 ],
 "metadata": {
  "language_info": {
   "name": "python"
  },
  "orig_nbformat": 4
 },
 "nbformat": 4,
 "nbformat_minor": 2
}
